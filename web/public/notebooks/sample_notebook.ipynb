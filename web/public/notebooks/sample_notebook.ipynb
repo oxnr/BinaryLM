{
  "cells": [
    {
      "cell_type": "markdown",
      "metadata": {},
      "source": [
        "# Sample Jupyter Notebook\n",
        "\n",
        "This is a basic notebook to test the notebook viewer component."
      ]
    },
    {
      "cell_type": "code",
      "execution_count": null,
      "metadata": {},
      "outputs": [],
      "source": [
        "# A simple Python cell\n",
        "print(\"Hello, world!\")"
      ]
    },
    {
      "cell_type": "markdown",
      "metadata": {},
      "source": [
        "## Markdown Example\n",
        "\n",
        "Here's some markdown content with:\n",
        "- Bullet points\n",
        "- **Bold text**\n",
        "- *Italic text*\n",
        "\n",
        "And a code block:\n",
        "```python\n",
        "def hello():\n",
        "    print(\"Hello from a code block\")\n",
        "```"
      ]
    }
  ],
  "metadata": {
    "kernelspec": {
      "display_name": "Python 3",
      "language": "python",
      "name": "python3"
    },
    "language_info": {
      "codemirror_mode": {
        "name": "ipython",
        "version": 3
      },
      "file_extension": ".py",
      "mimetype": "text/x-python",
      "name": "python",
      "nbconvert_exporter": "python",
      "pygments_lexer": "ipython3",
      "version": "3.8.10"
    }
  },
  "nbformat": 4,
  "nbformat_minor": 5
}